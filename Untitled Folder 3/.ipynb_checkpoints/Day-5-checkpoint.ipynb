{
 "cells": [
  {
   "cell_type": "markdown",
   "metadata": {},
   "source": [
    "### Todays concepts\n",
    "- OOPs\n",
    "- Regular Expressions\n",
    "- Files\n",
    "- Matplotilb"
   ]
  },
  {
   "cell_type": "code",
   "execution_count": null,
   "metadata": {},
   "outputs": [],
   "source": [
    "# Object oriented programming\n",
    "# object: instance of class\n",
    "# its having propertie(var) and actions(methods)\n",
    "# class:\n",
    "# collection of variables and methods\n",
    "#syntax:\n",
    "#class ClassName:\n",
    "    # variables\n",
    "    # methods\n"
   ]
  },
  {
   "cell_type": "code",
   "execution_count": null,
   "metadata": {},
   "outputs": [],
   "source": [
    "class student:\n",
    "    pass"
   ]
  },
  {
   "cell_type": "code",
   "execution_count": null,
   "metadata": {},
   "outputs": [],
   "source": [
    "# to create a object:\n",
    "#syntax:\n",
    "# var = classname()\n",
    "s = Student()\n"
   ]
  },
  {
   "cell_type": "code",
   "execution_count": 7,
   "metadata": {},
   "outputs": [],
   "source": [
    "class  student:\n",
    "    x = 10\n",
    "    y = 20\n"
   ]
  },
  {
   "cell_type": "code",
   "execution_count": 8,
   "metadata": {},
   "outputs": [
    {
     "data": {
      "text/plain": [
       "10"
      ]
     },
     "execution_count": 8,
     "metadata": {},
     "output_type": "execute_result"
    }
   ],
   "source": [
    "student().x"
   ]
  },
  {
   "cell_type": "code",
   "execution_count": 9,
   "metadata": {},
   "outputs": [
    {
     "data": {
      "text/plain": [
       "20"
      ]
     },
     "execution_count": 9,
     "metadata": {},
     "output_type": "execute_result"
    }
   ],
   "source": [
    "student().y"
   ]
  },
  {
   "cell_type": "code",
   "execution_count": 10,
   "metadata": {},
   "outputs": [
    {
     "data": {
      "text/plain": [
       "10"
      ]
     },
     "execution_count": 10,
     "metadata": {},
     "output_type": "execute_result"
    }
   ],
   "source": [
    "s = student()\n",
    "s.x\n"
   ]
  },
  {
   "cell_type": "code",
   "execution_count": 11,
   "metadata": {},
   "outputs": [
    {
     "data": {
      "text/plain": [
       "20"
      ]
     },
     "execution_count": 11,
     "metadata": {},
     "output_type": "execute_result"
    }
   ],
   "source": [
    "s.y"
   ]
  },
  {
   "cell_type": "code",
   "execution_count": 14,
   "metadata": {},
   "outputs": [
    {
     "name": "stdout",
     "output_type": "stream",
     "text": [
      "Enter name of the student: indira\n",
      "hello indira\n"
     ]
    }
   ],
   "source": [
    "class student:\n",
    "    x = 10\n",
    "    y = 20\n",
    "    def Display(self):\n",
    "        name = input(\"Enter name of the student: \")\n",
    "        print(\"hello\",name)\n",
    "student().x\n",
    "student().y\n",
    "s = student()\n",
    "s.x\n",
    "s.Display()"
   ]
  },
  {
   "cell_type": "code",
   "execution_count": 1,
   "metadata": {},
   "outputs": [
    {
     "name": "stdout",
     "output_type": "stream",
     "text": [
      "Enter name of the student: prizy\n",
      "hello prizy\n"
     ]
    }
   ],
   "source": [
    "class student:\n",
    "    x = 10\n",
    "    y = 20\n",
    "    def Display(self):\n",
    "        name = input(\"Enter name of the student: \")\n",
    "        print(\"hello\",name)\n",
    "student().x\n",
    "student().y\n",
    "s = student()\n",
    "s.x\n",
    "s.Display()"
   ]
  },
  {
   "cell_type": "code",
   "execution_count": null,
   "metadata": {},
   "outputs": [],
   "source": [
    "class student:\n",
    "    x = 10\n",
    "    y = 20\n",
    "    def Display(self):\n",
    "        z = 30\n",
    "        name = input(\"Enter name of the student: \")\n",
    "        print(\"hello\",name)\n",
    "student().x\n",
    "student().y\n",
    "student().z\n",
    "s = student()\n",
    "s.x\n",
    "s.Display()"
   ]
  },
  {
   "cell_type": "code",
   "execution_count": null,
   "metadata": {},
   "outputs": [],
   "source": [
    "# constructer:\n",
    "# syntax:\n",
    "#__init__(self):\n",
    "    # Statements"
   ]
  },
  {
   "cell_type": "code",
   "execution_count": 8,
   "metadata": {},
   "outputs": [],
   "source": [
    "class Cse:\n",
    "    sections = 3\n",
    "    year = 2\n",
    "    def __init__(self):\n",
    "        print(\"This is constructer\")\n",
    "    def Details(self):\n",
    "        print(\"hello {} year having {} sections\".format(year,sections))"
   ]
  },
  {
   "cell_type": "code",
   "execution_count": 9,
   "metadata": {},
   "outputs": [
    {
     "name": "stdout",
     "output_type": "stream",
     "text": [
      "This is constructer\n"
     ]
    }
   ],
   "source": [
    "c = Cse()"
   ]
  },
  {
   "cell_type": "code",
   "execution_count": 12,
   "metadata": {},
   "outputs": [],
   "source": [
    "class Cse:\n",
    "    sections = 3\n",
    "    year = 2\n",
    "    def __init__(self,sections,year):\n",
    "        print(\"This is constructer\")\n",
    "        self.sections = sections\n",
    "        self.year = year\n",
    "    def Details(self):\n",
    "        print(\"hello {} year having {} sections\".format(self.year,self.sections))"
   ]
  },
  {
   "cell_type": "code",
   "execution_count": 13,
   "metadata": {},
   "outputs": [
    {
     "name": "stdout",
     "output_type": "stream",
     "text": [
      "This is constructer\n",
      "hello 5 year having 4 sections\n"
     ]
    }
   ],
   "source": [
    "c = Cse(4,5)\n",
    "c.Details()"
   ]
  },
  {
   "cell_type": "code",
   "execution_count": null,
   "metadata": {},
   "outputs": [],
   "source": [
    "### Inheritance:\n",
    "# getting the properties from parent class to child cls 1\n",
    "# Has - A relation"
   ]
  },
  {
   "cell_type": "code",
   "execution_count": 15,
   "metadata": {},
   "outputs": [],
   "source": [
    "class Parent:\n",
    "    x = 10\n",
    "    y = 20\n",
    "    def M1(self):\n",
    "        print(\"Parent method..\")\n",
    "class Child:\n",
    "    z = 30\n",
    "    def __init__(self):\n",
    "        self.parent = Parent()\n",
    "    def M2(self):\n",
    "        print(self.parent.x)\n",
    "        print(self.parent.y)\n",
    "        print(Child().z)\n",
    "        print(self.parent.M1())"
   ]
  },
  {
   "cell_type": "code",
   "execution_count": 17,
   "metadata": {},
   "outputs": [
    {
     "name": "stdout",
     "output_type": "stream",
     "text": [
      "10\n",
      "20\n",
      "30\n",
      "Prent method..\n",
      "None\n"
     ]
    }
   ],
   "source": [
    "c = Child()\n",
    "c.M2()"
   ]
  },
  {
   "cell_type": "code",
   "execution_count": null,
   "metadata": {},
   "outputs": [],
   "source": [
    "class Parent:\n",
    "    x = 10\n",
    "    y = 20\n",
    "    def M1(self):\n",
    "        print(\"Prent method..\")\n",
    "class Child:\n",
    "    z = 30\n",
    "    def __init__(self):\n",
    "        self.parent = Parent()\n",
    "    def M2(self):\n",
    "        print(self.parent.x)\n",
    "        print(self.parent.y)\n",
    "        print(Child().z)\n",
    "        self.parent.M1()"
   ]
  },
  {
   "cell_type": "code",
   "execution_count": 18,
   "metadata": {},
   "outputs": [
    {
     "name": "stdout",
     "output_type": "stream",
     "text": [
      "10\n",
      "20\n",
      "30\n",
      "Prent method..\n",
      "None\n"
     ]
    }
   ],
   "source": [
    "c = Child()\n",
    "c.M2()"
   ]
  },
  {
   "cell_type": "code",
   "execution_count": 19,
   "metadata": {},
   "outputs": [
    {
     "name": "stdout",
     "output_type": "stream",
     "text": [
      "class A Method\n"
     ]
    }
   ],
   "source": [
    "# Is - A Relation:\n",
    "class A:\n",
    "    x = 20\n",
    "    y = 30\n",
    "    def m1(self):\n",
    "        print(\"class A Method\")\n",
    "class B(A):\n",
    "    z = 40\n",
    "    def m2(self):\n",
    "        print(\"class B method..\")\n",
    "obj = B()\n",
    "obj.m1()"
   ]
  },
  {
   "cell_type": "code",
   "execution_count": 21,
   "metadata": {},
   "outputs": [
    {
     "name": "stdout",
     "output_type": "stream",
     "text": [
      "class B method..\n"
     ]
    }
   ],
   "source": [
    "obj.m2()"
   ]
  },
  {
   "cell_type": "code",
   "execution_count": null,
   "metadata": {},
   "outputs": [],
   "source": [
    "# Multi level inheritence\n",
    "class a:\n",
    "    I = 5\n",
    "    S = 8\n",
    "    def m1(self):\n",
    "        print(\"class a method\")\n",
    "class b:\n",
    "    P = 3\n",
    "    def m2(self):\n",
    "        print(\"class b method\")"
   ]
  },
  {
   "cell_type": "code",
   "execution_count": 29,
   "metadata": {},
   "outputs": [],
   "source": [
    "class Parent:\n",
    "    name = \"Indira\"\n",
    "    companey = \"APSSDC\"\n",
    "    def m1(self):\n",
    "        print(\"Hello\",Parent.name,\"welcome to\",Parent.companey)\n",
    "class Child(Parent):\n",
    "    name1 = \"Prizy\"\n",
    "    companey = \"APSSDC\"\n",
    "    def m2(self):\n",
    "        print(\"Hello\",Child.name1,\"welcome to\",Child.companey)\n",
    "class SubChild(Child):\n",
    "    name2 = \"Chinni\"\n",
    "    companey = \"APSSDC\"\n",
    "    def mm(self):\n",
    "        print(\"Hello\",SubChild.name2,\"welcome to\",SubChild.companey)"
   ]
  },
  {
   "cell_type": "code",
   "execution_count": 30,
   "metadata": {},
   "outputs": [
    {
     "name": "stdout",
     "output_type": "stream",
     "text": [
      "Hello Indira welcome to APSSDC\n"
     ]
    }
   ],
   "source": [
    "obj = SubChild()\n",
    "obj.m1()"
   ]
  },
  {
   "cell_type": "code",
   "execution_count": 31,
   "metadata": {},
   "outputs": [
    {
     "name": "stdout",
     "output_type": "stream",
     "text": [
      "Hello Prizy welcome to APSSDC\n"
     ]
    }
   ],
   "source": [
    "obj.m2()"
   ]
  },
  {
   "cell_type": "code",
   "execution_count": 32,
   "metadata": {},
   "outputs": [
    {
     "name": "stdout",
     "output_type": "stream",
     "text": [
      "Hello Chinni welcome to APSSDC\n"
     ]
    }
   ],
   "source": [
    "obj.mm()"
   ]
  },
  {
   "cell_type": "code",
   "execution_count": null,
   "metadata": {},
   "outputs": [],
   "source": []
  }
 ],
 "metadata": {
  "kernelspec": {
   "display_name": "Python 3",
   "language": "python",
   "name": "python3"
  },
  "language_info": {
   "codemirror_mode": {
    "name": "ipython",
    "version": 3
   },
   "file_extension": ".py",
   "mimetype": "text/x-python",
   "name": "python",
   "nbconvert_exporter": "python",
   "pygments_lexer": "ipython3",
   "version": "3.8.5"
  }
 },
 "nbformat": 4,
 "nbformat_minor": 4
}
